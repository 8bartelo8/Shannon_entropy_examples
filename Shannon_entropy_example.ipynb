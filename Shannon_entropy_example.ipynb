{
 "cells": [
  {
   "cell_type": "code",
   "execution_count": 1,
   "id": "239aebdd",
   "metadata": {},
   "outputs": [],
   "source": [
    "import numpy as np"
   ]
  },
  {
   "cell_type": "code",
   "execution_count": 3,
   "id": "4177fa2c",
   "metadata": {},
   "outputs": [],
   "source": [
    "#Matrix definition\n",
    "P_ij=[[0.78,0.06,0.16],[0.18,0.46,0.36],[0.15,0.09,0.76]]\n",
    "Pi_i=[0.42,0.14,0.44]"
   ]
  },
  {
   "cell_type": "code",
   "execution_count": 4,
   "id": "83074a9a",
   "metadata": {},
   "outputs": [
    {
     "data": {
      "text/plain": [
       "0.7324922093474425"
      ]
     },
     "execution_count": 4,
     "metadata": {},
     "output_type": "execute_result"
    }
   ],
   "source": [
    "#Compute H_t. Multiplying elementwise P_ij and its logarithm\n",
    "#Then sum over j, which means in this case suming along each row (or suming the columns), \n",
    "#That's the reason to use keyword argument 'axis' equals to 1 in the function np.sum\n",
    "H_t=-np.sum(np.multiply(Pi_i,np.sum(np.multiply(P_ij,np.log(P_ij)),axis=1)))\n",
    "H_t"
   ]
  },
  {
   "cell_type": "code",
   "execution_count": 5,
   "id": "7f59dd64",
   "metadata": {},
   "outputs": [
    {
     "data": {
      "text/plain": [
       "1.0008374812389056"
      ]
     },
     "execution_count": 5,
     "metadata": {},
     "output_type": "execute_result"
    }
   ],
   "source": [
    "#H_s is easier\n",
    "H_s=-np.sum(np.multiply(Pi_i,np.log(Pi_i)))\n",
    "H_s"
   ]
  },
  {
   "cell_type": "code",
   "execution_count": null,
   "id": "65a57a96",
   "metadata": {},
   "outputs": [],
   "source": []
  }
 ],
 "metadata": {
  "kernelspec": {
   "display_name": "Python 3 (ipykernel)",
   "language": "python",
   "name": "python3"
  },
  "language_info": {
   "codemirror_mode": {
    "name": "ipython",
    "version": 3
   },
   "file_extension": ".py",
   "mimetype": "text/x-python",
   "name": "python",
   "nbconvert_exporter": "python",
   "pygments_lexer": "ipython3",
   "version": "3.9.7"
  }
 },
 "nbformat": 4,
 "nbformat_minor": 5
}
